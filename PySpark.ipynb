{
 "cells": [
  {
   "cell_type": "code",
   "execution_count": 1,
   "metadata": {},
   "outputs": [],
   "source": [
    "import pyspark\n",
    "import findspark"
   ]
  },
  {
   "cell_type": "code",
   "execution_count": 4,
   "metadata": {},
   "outputs": [],
   "source": [
    "from pyspark.sql import SparkSession\n",
    "from pyspark.ml.feature import VectorAssembler\n",
    "from pyspark.ml.regression import LinearRegression\n",
    "import numpy as np"
   ]
  },
  {
   "cell_type": "code",
   "execution_count": 5,
   "metadata": {},
   "outputs": [
    {
     "data": {
      "text/plain": [
       "'E:\\\\softwares\\\\Spark\\\\spark-3.0.0-bin-hadoop2.7'"
      ]
     },
     "execution_count": 5,
     "metadata": {},
     "output_type": "execute_result"
    }
   ],
   "source": [
    "findspark.init()\n",
    "findspark.find()"
   ]
  },
  {
   "cell_type": "code",
   "execution_count": 9,
   "metadata": {},
   "outputs": [],
   "source": [
    "if __name__=='__main__':\n",
    "    spark=SparkSession\\\n",
    "    .builder\\\n",
    "    .appName('LinearRegWithSpark')\\\n",
    "    .getOrCreate()"
   ]
  },
  {
   "cell_type": "code",
   "execution_count": 11,
   "metadata": {},
   "outputs": [],
   "source": [
    "dataset=spark.read.csv(r\"C:\\Users\\Mohit\\Desktop\\Sample Files\\titanic\\train.csv\",header=True)"
   ]
  },
  {
   "cell_type": "code",
   "execution_count": 12,
   "metadata": {},
   "outputs": [
    {
     "name": "stdout",
     "output_type": "stream",
     "text": [
      "+-----------+--------+------+--------------------+------+----+-----+-----+----------------+-------+-----+--------+\n",
      "|PassengerId|Survived|Pclass|                Name|   Sex| Age|SibSp|Parch|          Ticket|   Fare|Cabin|Embarked|\n",
      "+-----------+--------+------+--------------------+------+----+-----+-----+----------------+-------+-----+--------+\n",
      "|          1|       0|     3|Braund, Mr. Owen ...|  male|  22|    1|    0|       A/5 21171|   7.25| null|       S|\n",
      "|          2|       1|     1|Cumings, Mrs. Joh...|female|  38|    1|    0|        PC 17599|71.2833|  C85|       C|\n",
      "|          3|       1|     3|Heikkinen, Miss. ...|female|  26|    0|    0|STON/O2. 3101282|  7.925| null|       S|\n",
      "|          4|       1|     1|Futrelle, Mrs. Ja...|female|  35|    1|    0|          113803|   53.1| C123|       S|\n",
      "|          5|       0|     3|Allen, Mr. Willia...|  male|  35|    0|    0|          373450|   8.05| null|       S|\n",
      "|          6|       0|     3|    Moran, Mr. James|  male|null|    0|    0|          330877| 8.4583| null|       Q|\n",
      "|          7|       0|     1|McCarthy, Mr. Tim...|  male|  54|    0|    0|           17463|51.8625|  E46|       S|\n",
      "|          8|       0|     3|Palsson, Master. ...|  male|   2|    3|    1|          349909| 21.075| null|       S|\n",
      "|          9|       1|     3|Johnson, Mrs. Osc...|female|  27|    0|    2|          347742|11.1333| null|       S|\n",
      "|         10|       1|     2|Nasser, Mrs. Nich...|female|  14|    1|    0|          237736|30.0708| null|       C|\n",
      "|         11|       1|     3|Sandstrom, Miss. ...|female|   4|    1|    1|         PP 9549|   16.7|   G6|       S|\n",
      "|         12|       1|     1|Bonnell, Miss. El...|female|  58|    0|    0|          113783|  26.55| C103|       S|\n",
      "|         13|       0|     3|Saundercock, Mr. ...|  male|  20|    0|    0|       A/5. 2151|   8.05| null|       S|\n",
      "|         14|       0|     3|Andersson, Mr. An...|  male|  39|    1|    5|          347082| 31.275| null|       S|\n",
      "|         15|       0|     3|Vestrom, Miss. Hu...|female|  14|    0|    0|          350406| 7.8542| null|       S|\n",
      "|         16|       1|     2|Hewlett, Mrs. (Ma...|female|  55|    0|    0|          248706|     16| null|       S|\n",
      "|         17|       0|     3|Rice, Master. Eugene|  male|   2|    4|    1|          382652| 29.125| null|       Q|\n",
      "|         18|       1|     2|Williams, Mr. Cha...|  male|null|    0|    0|          244373|     13| null|       S|\n",
      "|         19|       0|     3|Vander Planke, Mr...|female|  31|    1|    0|          345763|     18| null|       S|\n",
      "|         20|       1|     3|Masselmani, Mrs. ...|female|null|    0|    0|            2649|  7.225| null|       C|\n",
      "+-----------+--------+------+--------------------+------+----+-----+-----+----------------+-------+-----+--------+\n",
      "only showing top 20 rows\n",
      "\n"
     ]
    }
   ],
   "source": [
    "dataset.show()"
   ]
  },
  {
   "cell_type": "code",
   "execution_count": 13,
   "metadata": {},
   "outputs": [
    {
     "data": {
      "text/plain": [
       "pyspark.sql.dataframe.DataFrame"
      ]
     },
     "execution_count": 13,
     "metadata": {},
     "output_type": "execute_result"
    }
   ],
   "source": [
    "type(dataset)"
   ]
  },
  {
   "cell_type": "code",
   "execution_count": 24,
   "metadata": {},
   "outputs": [],
   "source": [
    "from pyspark.sql.functions import col,count,isnan,when\n",
    "new_data=dataset.select(*(col(c).cast(\"float\").alias(c) for c in dataset.columns))"
   ]
  },
  {
   "cell_type": "code",
   "execution_count": 16,
   "metadata": {},
   "outputs": [
    {
     "name": "stdout",
     "output_type": "stream",
     "text": [
      "root\n",
      " |-- PassengerId: float (nullable = true)\n",
      " |-- Survived: float (nullable = true)\n",
      " |-- Pclass: float (nullable = true)\n",
      " |-- Name: float (nullable = true)\n",
      " |-- Sex: float (nullable = true)\n",
      " |-- Age: float (nullable = true)\n",
      " |-- SibSp: float (nullable = true)\n",
      " |-- Parch: float (nullable = true)\n",
      " |-- Ticket: float (nullable = true)\n",
      " |-- Fare: float (nullable = true)\n",
      " |-- Cabin: float (nullable = true)\n",
      " |-- Embarked: float (nullable = true)\n",
      "\n"
     ]
    }
   ],
   "source": [
    "new_data.printSchema()"
   ]
  },
  {
   "cell_type": "code",
   "execution_count": 17,
   "metadata": {},
   "outputs": [
    {
     "name": "stdout",
     "output_type": "stream",
     "text": [
      "+-----------+--------+------+----+----+----+-----+-----+--------+-------+-----+--------+\n",
      "|PassengerId|Survived|Pclass|Name| Sex| Age|SibSp|Parch|  Ticket|   Fare|Cabin|Embarked|\n",
      "+-----------+--------+------+----+----+----+-----+-----+--------+-------+-----+--------+\n",
      "|        1.0|     0.0|   3.0|null|null|22.0|  1.0|  0.0|    null|   7.25| null|    null|\n",
      "|        2.0|     1.0|   1.0|null|null|38.0|  1.0|  0.0|    null|71.2833| null|    null|\n",
      "|        3.0|     1.0|   3.0|null|null|26.0|  0.0|  0.0|    null|  7.925| null|    null|\n",
      "|        4.0|     1.0|   1.0|null|null|35.0|  1.0|  0.0|113803.0|   53.1| null|    null|\n",
      "|        5.0|     0.0|   3.0|null|null|35.0|  0.0|  0.0|373450.0|   8.05| null|    null|\n",
      "|        6.0|     0.0|   3.0|null|null|null|  0.0|  0.0|330877.0| 8.4583| null|    null|\n",
      "|        7.0|     0.0|   1.0|null|null|54.0|  0.0|  0.0| 17463.0|51.8625| null|    null|\n",
      "|        8.0|     0.0|   3.0|null|null| 2.0|  3.0|  1.0|349909.0| 21.075| null|    null|\n",
      "|        9.0|     1.0|   3.0|null|null|27.0|  0.0|  2.0|347742.0|11.1333| null|    null|\n",
      "|       10.0|     1.0|   2.0|null|null|14.0|  1.0|  0.0|237736.0|30.0708| null|    null|\n",
      "|       11.0|     1.0|   3.0|null|null| 4.0|  1.0|  1.0|    null|   16.7| null|    null|\n",
      "|       12.0|     1.0|   1.0|null|null|58.0|  0.0|  0.0|113783.0|  26.55| null|    null|\n",
      "|       13.0|     0.0|   3.0|null|null|20.0|  0.0|  0.0|    null|   8.05| null|    null|\n",
      "|       14.0|     0.0|   3.0|null|null|39.0|  1.0|  5.0|347082.0| 31.275| null|    null|\n",
      "|       15.0|     0.0|   3.0|null|null|14.0|  0.0|  0.0|350406.0| 7.8542| null|    null|\n",
      "|       16.0|     1.0|   2.0|null|null|55.0|  0.0|  0.0|248706.0|   16.0| null|    null|\n",
      "|       17.0|     0.0|   3.0|null|null| 2.0|  4.0|  1.0|382652.0| 29.125| null|    null|\n",
      "|       18.0|     1.0|   2.0|null|null|null|  0.0|  0.0|244373.0|   13.0| null|    null|\n",
      "|       19.0|     0.0|   3.0|null|null|31.0|  1.0|  0.0|345763.0|   18.0| null|    null|\n",
      "|       20.0|     1.0|   3.0|null|null|null|  0.0|  0.0|  2649.0|  7.225| null|    null|\n",
      "+-----------+--------+------+----+----+----+-----+-----+--------+-------+-----+--------+\n",
      "only showing top 20 rows\n",
      "\n"
     ]
    }
   ],
   "source": [
    "new_data.show()"
   ]
  },
  {
   "cell_type": "code",
   "execution_count": 19,
   "metadata": {},
   "outputs": [
    {
     "data": {
      "text/plain": [
       "[Column<b'CAST(PassengerId AS FLOAT) AS `PassengerId`'>,\n",
       " Column<b'CAST(Survived AS FLOAT) AS `Survived`'>,\n",
       " Column<b'CAST(Pclass AS FLOAT) AS `Pclass`'>,\n",
       " Column<b'CAST(Name AS FLOAT) AS `Name`'>,\n",
       " Column<b'CAST(Sex AS FLOAT) AS `Sex`'>,\n",
       " Column<b'CAST(Age AS FLOAT) AS `Age`'>,\n",
       " Column<b'CAST(SibSp AS FLOAT) AS `SibSp`'>,\n",
       " Column<b'CAST(Parch AS FLOAT) AS `Parch`'>,\n",
       " Column<b'CAST(Ticket AS FLOAT) AS `Ticket`'>,\n",
       " Column<b'CAST(Fare AS FLOAT) AS `Fare`'>,\n",
       " Column<b'CAST(Cabin AS FLOAT) AS `Cabin`'>,\n",
       " Column<b'CAST(Embarked AS FLOAT) AS `Embarked`'>]"
      ]
     },
     "execution_count": 19,
     "metadata": {},
     "output_type": "execute_result"
    }
   ],
   "source": [
    "list((col(c).cast(\"float\").alias(c) for c in dataset.columns))"
   ]
  },
  {
   "cell_type": "code",
   "execution_count": 37,
   "metadata": {},
   "outputs": [],
   "source": [
    "from pyspark.ml.feature import Imputer"
   ]
  },
  {
   "cell_type": "code",
   "execution_count": 25,
   "metadata": {},
   "outputs": [
    {
     "name": "stdout",
     "output_type": "stream",
     "text": [
      "+-----------+--------+------+----+---+---+-----+-----+------+----+-----+--------+\n",
      "|PassengerId|Survived|Pclass|Name|Sex|Age|SibSp|Parch|Ticket|Fare|Cabin|Embarked|\n",
      "+-----------+--------+------+----+---+---+-----+-----+------+----+-----+--------+\n",
      "|          0|       0|     0| 891|891|177|    0|    0|   230|   0|  891|     891|\n",
      "+-----------+--------+------+----+---+---+-----+-----+------+----+-----+--------+\n",
      "\n"
     ]
    }
   ],
   "source": [
    "new_data.select([count(when(col(c).isNull(),c)).alias(c) for c in new_data.columns]).show()"
   ]
  },
  {
   "cell_type": "code",
   "execution_count": 44,
   "metadata": {},
   "outputs": [],
   "source": [
    "imputer=Imputer(inputCols=['PassengerId','Survived','Age','Ticket','Fare'],\n",
    "               outputCols=['PassengerId','Survived','Age','Ticket','Fare'])"
   ]
  },
  {
   "cell_type": "code",
   "execution_count": 45,
   "metadata": {},
   "outputs": [],
   "source": [
    "model=imputer.fit(new_data)"
   ]
  },
  {
   "cell_type": "code",
   "execution_count": 46,
   "metadata": {},
   "outputs": [],
   "source": [
    "imputed_data=model.transform(new_data)"
   ]
  },
  {
   "cell_type": "code",
   "execution_count": 47,
   "metadata": {},
   "outputs": [
    {
     "name": "stdout",
     "output_type": "stream",
     "text": [
      "+-----------+--------+------+----+---+---+-----+-----+------+----+-----+--------+\n",
      "|PassengerId|Survived|Pclass|Name|Sex|Age|SibSp|Parch|Ticket|Fare|Cabin|Embarked|\n",
      "+-----------+--------+------+----+---+---+-----+-----+------+----+-----+--------+\n",
      "|          0|       0|     0| 891|891|  0|    0|    0|     0|   0|  891|     891|\n",
      "+-----------+--------+------+----+---+---+-----+-----+------+----+-----+--------+\n",
      "\n"
     ]
    }
   ],
   "source": [
    "imputed_data.select([count(when(col(c).isNull(),c)).alias(c) for c in new_data.columns]).show()"
   ]
  },
  {
   "cell_type": "code",
   "execution_count": 101,
   "metadata": {},
   "outputs": [],
   "source": [
    "features=imputed_data.select('PassengerId','Survived','Age','SibSp','Parch','Fare')"
   ]
  },
  {
   "cell_type": "code",
   "execution_count": 99,
   "metadata": {},
   "outputs": [
    {
     "name": "stdout",
     "output_type": "stream",
     "text": [
      "+-----------+--------+---------+-----+-----+-------+\n",
      "|PassengerId|Survived|      Age|SibSp|Parch|   Fare|\n",
      "+-----------+--------+---------+-----+-----+-------+\n",
      "|        1.0|     0.0|     22.0|  1.0|  0.0|   7.25|\n",
      "|        2.0|     1.0|     38.0|  1.0|  0.0|71.2833|\n",
      "|        3.0|     1.0|     26.0|  0.0|  0.0|  7.925|\n",
      "|        4.0|     1.0|     35.0|  1.0|  0.0|   53.1|\n",
      "|        5.0|     0.0|     35.0|  0.0|  0.0|   8.05|\n",
      "|        6.0|     0.0|29.699118|  0.0|  0.0| 8.4583|\n",
      "|        7.0|     0.0|     54.0|  0.0|  0.0|51.8625|\n",
      "|        8.0|     0.0|      2.0|  3.0|  1.0| 21.075|\n",
      "|        9.0|     1.0|     27.0|  0.0|  2.0|11.1333|\n",
      "|       10.0|     1.0|     14.0|  1.0|  0.0|30.0708|\n",
      "|       11.0|     1.0|      4.0|  1.0|  1.0|   16.7|\n",
      "|       12.0|     1.0|     58.0|  0.0|  0.0|  26.55|\n",
      "|       13.0|     0.0|     20.0|  0.0|  0.0|   8.05|\n",
      "|       14.0|     0.0|     39.0|  1.0|  5.0| 31.275|\n",
      "|       15.0|     0.0|     14.0|  0.0|  0.0| 7.8542|\n",
      "|       16.0|     1.0|     55.0|  0.0|  0.0|   16.0|\n",
      "|       17.0|     0.0|      2.0|  4.0|  1.0| 29.125|\n",
      "|       18.0|     1.0|29.699118|  0.0|  0.0|   13.0|\n",
      "|       19.0|     0.0|     31.0|  1.0|  0.0|   18.0|\n",
      "|       20.0|     1.0|29.699118|  0.0|  0.0|  7.225|\n",
      "+-----------+--------+---------+-----+-----+-------+\n",
      "only showing top 20 rows\n",
      "\n"
     ]
    }
   ],
   "source": [
    "features.show()"
   ]
  },
  {
   "cell_type": "code",
   "execution_count": 102,
   "metadata": {},
   "outputs": [],
   "source": [
    "assembler=VectorAssembler(\n",
    "            inputCols=features.columns,\n",
    "            outputCol='features')"
   ]
  },
  {
   "cell_type": "code",
   "execution_count": 103,
   "metadata": {},
   "outputs": [],
   "source": [
    "output=assembler.transform(imputed_data)"
   ]
  },
  {
   "cell_type": "code",
   "execution_count": 85,
   "metadata": {},
   "outputs": [
    {
     "name": "stdout",
     "output_type": "stream",
     "text": [
      "+-----------+--------+------+----+----+---------+-----+-----+---------+-------+-----+--------+--------------------+\n",
      "|PassengerId|Survived|Pclass|Name| Sex|      Age|SibSp|Parch|   Ticket|   Fare|Cabin|Embarked|            features|\n",
      "+-----------+--------+------+----+----+---------+-----+-----+---------+-------+-----+--------+--------------------+\n",
      "|        1.0|     0.0|   3.0|null|null|     22.0|  1.0|  0.0|260318.55|   7.25| null|    null|[1.0,3.0,22.0,1.0...|\n",
      "|        2.0|     1.0|   1.0|null|null|     38.0|  1.0|  0.0|260318.55|71.2833| null|    null|[2.0,1.0,38.0,1.0...|\n",
      "|        3.0|     1.0|   3.0|null|null|     26.0|  0.0|  0.0|260318.55|  7.925| null|    null|[3.0,3.0,26.0,0.0...|\n",
      "|        4.0|     1.0|   1.0|null|null|     35.0|  1.0|  0.0| 113803.0|   53.1| null|    null|[4.0,1.0,35.0,1.0...|\n",
      "|        5.0|     0.0|   3.0|null|null|     35.0|  0.0|  0.0| 373450.0|   8.05| null|    null|[5.0,3.0,35.0,0.0...|\n",
      "|        6.0|     0.0|   3.0|null|null|29.699118|  0.0|  0.0| 330877.0| 8.4583| null|    null|[6.0,3.0,29.69911...|\n",
      "|        7.0|     0.0|   1.0|null|null|     54.0|  0.0|  0.0|  17463.0|51.8625| null|    null|[7.0,1.0,54.0,0.0...|\n",
      "|        8.0|     0.0|   3.0|null|null|      2.0|  3.0|  1.0| 349909.0| 21.075| null|    null|[8.0,3.0,2.0,3.0,...|\n",
      "|        9.0|     1.0|   3.0|null|null|     27.0|  0.0|  2.0| 347742.0|11.1333| null|    null|[9.0,3.0,27.0,0.0...|\n",
      "|       10.0|     1.0|   2.0|null|null|     14.0|  1.0|  0.0| 237736.0|30.0708| null|    null|[10.0,2.0,14.0,1....|\n",
      "|       11.0|     1.0|   3.0|null|null|      4.0|  1.0|  1.0|260318.55|   16.7| null|    null|[11.0,3.0,4.0,1.0...|\n",
      "|       12.0|     1.0|   1.0|null|null|     58.0|  0.0|  0.0| 113783.0|  26.55| null|    null|[12.0,1.0,58.0,0....|\n",
      "|       13.0|     0.0|   3.0|null|null|     20.0|  0.0|  0.0|260318.55|   8.05| null|    null|[13.0,3.0,20.0,0....|\n",
      "|       14.0|     0.0|   3.0|null|null|     39.0|  1.0|  5.0| 347082.0| 31.275| null|    null|[14.0,3.0,39.0,1....|\n",
      "|       15.0|     0.0|   3.0|null|null|     14.0|  0.0|  0.0| 350406.0| 7.8542| null|    null|[15.0,3.0,14.0,0....|\n",
      "|       16.0|     1.0|   2.0|null|null|     55.0|  0.0|  0.0| 248706.0|   16.0| null|    null|[16.0,2.0,55.0,0....|\n",
      "|       17.0|     0.0|   3.0|null|null|      2.0|  4.0|  1.0| 382652.0| 29.125| null|    null|[17.0,3.0,2.0,4.0...|\n",
      "|       18.0|     1.0|   2.0|null|null|29.699118|  0.0|  0.0| 244373.0|   13.0| null|    null|[18.0,2.0,29.6991...|\n",
      "|       19.0|     0.0|   3.0|null|null|     31.0|  1.0|  0.0| 345763.0|   18.0| null|    null|[19.0,3.0,31.0,1....|\n",
      "|       20.0|     1.0|   3.0|null|null|29.699118|  0.0|  0.0|   2649.0|  7.225| null|    null|[20.0,3.0,29.6991...|\n",
      "+-----------+--------+------+----+----+---------+-----+-----+---------+-------+-----+--------+--------------------+\n",
      "only showing top 20 rows\n",
      "\n"
     ]
    }
   ],
   "source": [
    "output.show()\n",
    "# imputed_data.show()"
   ]
  },
  {
   "cell_type": "code",
   "execution_count": 104,
   "metadata": {},
   "outputs": [],
   "source": [
    "target_df=output.select('features','Survived')"
   ]
  },
  {
   "cell_type": "code",
   "execution_count": 93,
   "metadata": {},
   "outputs": [
    {
     "name": "stdout",
     "output_type": "stream",
     "text": [
      "+--------------------+--------+\n",
      "|            features|Survived|\n",
      "+--------------------+--------+\n",
      "|[1.0,3.0,22.0,1.0...|     0.0|\n",
      "|[2.0,1.0,38.0,1.0...|     1.0|\n",
      "|[3.0,3.0,26.0,0.0...|     1.0|\n",
      "|[4.0,1.0,35.0,1.0...|     1.0|\n",
      "|[5.0,3.0,35.0,0.0...|     0.0|\n",
      "|[6.0,3.0,29.69911...|     0.0|\n",
      "|[7.0,1.0,54.0,0.0...|     0.0|\n",
      "|[8.0,3.0,2.0,3.0,...|     0.0|\n",
      "|[9.0,3.0,27.0,0.0...|     1.0|\n",
      "|[10.0,2.0,14.0,1....|     1.0|\n",
      "|[11.0,3.0,4.0,1.0...|     1.0|\n",
      "|[12.0,1.0,58.0,0....|     1.0|\n",
      "|[13.0,3.0,20.0,0....|     0.0|\n",
      "|[14.0,3.0,39.0,1....|     0.0|\n",
      "|[15.0,3.0,14.0,0....|     0.0|\n",
      "|[16.0,2.0,55.0,0....|     1.0|\n",
      "|[17.0,3.0,2.0,4.0...|     0.0|\n",
      "|[18.0,2.0,29.6991...|     1.0|\n",
      "|[19.0,3.0,31.0,1....|     0.0|\n",
      "|[20.0,3.0,29.6991...|     1.0|\n",
      "+--------------------+--------+\n",
      "only showing top 20 rows\n",
      "\n"
     ]
    }
   ],
   "source": [
    "target_df.show()"
   ]
  },
  {
   "cell_type": "code",
   "execution_count": 105,
   "metadata": {},
   "outputs": [],
   "source": [
    "target_df=target_df.select(\"features\",\"Survived\")"
   ]
  },
  {
   "cell_type": "code",
   "execution_count": 76,
   "metadata": {},
   "outputs": [
    {
     "name": "stdout",
     "output_type": "stream",
     "text": [
      "+--------------------+--------+\n",
      "|            features|Survived|\n",
      "+--------------------+--------+\n",
      "|[1.0,0.0,3.0,22.0...|     0.0|\n",
      "|[2.0,1.0,1.0,38.0...|     1.0|\n",
      "|[3.0,1.0,3.0,26.0...|     1.0|\n",
      "|[4.0,1.0,1.0,35.0...|     1.0|\n",
      "|[5.0,0.0,3.0,35.0...|     0.0|\n",
      "|[6.0,0.0,3.0,29.6...|     0.0|\n",
      "|[7.0,0.0,1.0,54.0...|     0.0|\n",
      "|[8.0,0.0,3.0,2.0,...|     0.0|\n",
      "|[9.0,1.0,3.0,27.0...|     1.0|\n",
      "|[10.0,1.0,2.0,14....|     1.0|\n",
      "|[11.0,1.0,3.0,4.0...|     1.0|\n",
      "|[12.0,1.0,1.0,58....|     1.0|\n",
      "|[13.0,0.0,3.0,20....|     0.0|\n",
      "|[14.0,0.0,3.0,39....|     0.0|\n",
      "|[15.0,0.0,3.0,14....|     0.0|\n",
      "|[16.0,1.0,2.0,55....|     1.0|\n",
      "|[17.0,0.0,3.0,2.0...|     0.0|\n",
      "|[18.0,1.0,2.0,29....|     1.0|\n",
      "|[19.0,0.0,3.0,31....|     0.0|\n",
      "|[20.0,1.0,3.0,29....|     1.0|\n",
      "+--------------------+--------+\n",
      "only showing top 20 rows\n",
      "\n"
     ]
    }
   ],
   "source": [
    "target_df.show()"
   ]
  },
  {
   "cell_type": "code",
   "execution_count": 106,
   "metadata": {},
   "outputs": [],
   "source": [
    "train_df,test_df=target_df.randomSplit([0.7,0.3])"
   ]
  },
  {
   "cell_type": "code",
   "execution_count": 95,
   "metadata": {},
   "outputs": [
    {
     "name": "stdout",
     "output_type": "stream",
     "text": [
      "+--------------------+--------+\n",
      "|            features|Survived|\n",
      "+--------------------+--------+\n",
      "|[1.0,3.0,22.0,1.0...|     0.0|\n",
      "|[2.0,1.0,38.0,1.0...|     1.0|\n",
      "|[3.0,3.0,26.0,0.0...|     1.0|\n",
      "|[6.0,3.0,29.69911...|     0.0|\n",
      "|[9.0,3.0,27.0,0.0...|     1.0|\n",
      "|[11.0,3.0,4.0,1.0...|     1.0|\n",
      "|[13.0,3.0,20.0,0....|     0.0|\n",
      "|[16.0,2.0,55.0,0....|     1.0|\n",
      "|[18.0,2.0,29.6991...|     1.0|\n",
      "|[19.0,3.0,31.0,1....|     0.0|\n",
      "|[22.0,2.0,34.0,0....|     1.0|\n",
      "|[23.0,3.0,15.0,0....|     1.0|\n",
      "|[25.0,3.0,8.0,3.0...|     0.0|\n",
      "|[26.0,3.0,38.0,1....|     1.0|\n",
      "|[27.0,3.0,29.6991...|     0.0|\n",
      "|[28.0,1.0,19.0,3....|     0.0|\n",
      "|[29.0,3.0,29.6991...|     1.0|\n",
      "|[30.0,3.0,29.6991...|     0.0|\n",
      "|[32.0,1.0,29.6991...|     1.0|\n",
      "|[33.0,3.0,29.6991...|     1.0|\n",
      "+--------------------+--------+\n",
      "only showing top 20 rows\n",
      "\n"
     ]
    }
   ],
   "source": [
    "train_df.show()"
   ]
  },
  {
   "cell_type": "code",
   "execution_count": 124,
   "metadata": {},
   "outputs": [],
   "source": [
    "lin_reg=LinearRegression(featuresCol='features',labelCol='Survived',predictionCol='prediction',maxIter=1000)\n",
    "linear_model=lin_reg.fit(train_df)"
   ]
  },
  {
   "cell_type": "code",
   "execution_count": 125,
   "metadata": {},
   "outputs": [
    {
     "name": "stdout",
     "output_type": "stream",
     "text": [
      "Coefficients: [1.0427632763748864e-19,1.0000000000000002,-1.455893291150934e-18,-2.6721362977261686e-19,4.840545498327886e-19,-9.688936960677006e-19]\n",
      "Intercept: -1.918021604029193e-18\n"
     ]
    }
   ],
   "source": [
    "print(\"Coefficients: \"+str(linear_model.coefficients))\n",
    "print(\"Intercept: \"+ str(linear_model.intercept))"
   ]
  },
  {
   "cell_type": "code",
   "execution_count": 126,
   "metadata": {},
   "outputs": [
    {
     "name": "stdout",
     "output_type": "stream",
     "text": [
      "RMSE : 0.000000\n",
      "r2: 1.000000\n"
     ]
    }
   ],
   "source": [
    "trainSummary=linear_model.summary\n",
    "print('RMSE : %f' %trainSummary.rootMeanSquaredError)\n",
    "print('r2: %f' % trainSummary.r2adj)"
   ]
  },
  {
   "cell_type": "code",
   "execution_count": 127,
   "metadata": {},
   "outputs": [],
   "source": [
    "predictions=linear_model.transform(test_df)"
   ]
  },
  {
   "cell_type": "code",
   "execution_count": 128,
   "metadata": {},
   "outputs": [
    {
     "name": "stdout",
     "output_type": "stream",
     "text": [
      "+--------------------+--------+--------------------+\n",
      "|            features|Survived|          prediction|\n",
      "+--------------------+--------+--------------------+\n",
      "|(6,[0,2],[180.0,3...|     0.0|-3.55604411107148...|\n",
      "|(6,[0,2],[414.0,2...|     0.0|-1.98636811716576...|\n",
      "|(6,[0,2],[675.0,2...|     0.0|2.522975339621877...|\n",
      "|(6,[0,2],[733.0,2...|     0.0|3.12777803991931E-17|\n",
      "|(6,[0,2],[823.0,3...|     0.0|2.857745097788845...|\n",
      "|[1.0,0.0,22.0,1.0...|     0.0|-4.11350906079757...|\n",
      "|[3.0,1.0,26.0,0.0...|     1.0|  1.0000000000000002|\n",
      "|[4.0,1.0,35.0,1.0...|     1.0|  1.0000000000000002|\n",
      "|[5.0,0.0,35.0,0.0...|     0.0|-6.01524995942712...|\n",
      "|[6.0,0.0,29.69911...|     0.0|-5.27263029908479...|\n",
      "|[12.0,1.0,58.0,0....|     1.0|  1.0000000000000002|\n",
      "|[13.0,0.0,20.0,0....|     0.0|-3.74798896059073...|\n",
      "|[15.0,0.0,14.0,0....|     0.0|-2.8346267523093E-17|\n",
      "|[20.0,1.0,29.6991...|     1.0|  1.0000000000000002|\n",
      "|[21.0,0.0,35.0,0....|     0.0|-7.58757200116848...|\n",
      "|[37.0,1.0,29.6991...|     1.0|  1.0000000000000002|\n",
      "|[38.0,0.0,21.0,0....|     0.0|-3.63288747061210...|\n",
      "|[39.0,0.0,18.0,2....|     0.0|-4.20318378556477...|\n",
      "|[42.0,0.0,27.0,1....|     0.0|-5.74615159515242...|\n",
      "|[46.0,0.0,29.6991...|     0.0|-4.81596511259083...|\n",
      "+--------------------+--------+--------------------+\n",
      "only showing top 20 rows\n",
      "\n"
     ]
    }
   ],
   "source": [
    "predictions.show()"
   ]
  },
  {
   "cell_type": "code",
   "execution_count": null,
   "metadata": {},
   "outputs": [],
   "source": []
  }
 ],
 "metadata": {
  "kernelspec": {
   "display_name": "Python 3",
   "language": "python",
   "name": "python3"
  },
  "language_info": {
   "codemirror_mode": {
    "name": "ipython",
    "version": 3
   },
   "file_extension": ".py",
   "mimetype": "text/x-python",
   "name": "python",
   "nbconvert_exporter": "python",
   "pygments_lexer": "ipython3",
   "version": "3.6.9"
  }
 },
 "nbformat": 4,
 "nbformat_minor": 4
}
